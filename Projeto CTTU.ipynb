{
 "cells": [
  {
   "cell_type": "code",
   "execution_count": 38,
   "metadata": {},
   "outputs": [],
   "source": [
    "import pandas\n",
    "import geopandas\n",
    "from shapely.geometry import Point"
   ]
  },
  {
   "cell_type": "markdown",
   "metadata": {},
   "source": [
    "Eu utilizei somente os datasets que possuem dados de latitude e longitude inicialmente mas a ideia\n",
    "é adicionar informações de bairro."
   ]
  },
  {
   "cell_type": "markdown",
   "metadata": {},
   "source": [
    "# Data Sources\n",
    "\n",
    "As fontes de dados são do site dados.recife.pe.gov.br. Todas são relacionadas à CTTU"
   ]
  },
  {
   "cell_type": "code",
   "execution_count": 36,
   "metadata": {},
   "outputs": [],
   "source": [
    "acidentes_2014 = pandas.read_csv(\"data/acidentes-2014.csv\", sep=\";\")\n",
    "acidentes_2015 = pandas.read_csv(\"data/acidentes-2015.csv\", sep=\";\")\n",
    "acidentes_2016 = pandas.read_csv(\"data/acidentes-2016.csv\", sep=\";\")"
   ]
  },
  {
   "cell_type": "code",
   "execution_count": 5,
   "metadata": {},
   "outputs": [],
   "source": [
    "equipamentos_monitoramento = pandas.read_csv(\"data/equipamentos-de-monitoramento-e-ficalizacao.csv\", sep=\";\")"
   ]
  },
  {
   "cell_type": "code",
   "execution_count": 71,
   "metadata": {},
   "outputs": [],
   "source": [
    "semaforos = pandas.read_csv(\"data/semaforos.csv\", sep=\";\")"
   ]
  },
  {
   "cell_type": "code",
   "execution_count": 7,
   "metadata": {},
   "outputs": [],
   "source": [
    "fiscalizacao = pandas.read_csv(\"data/fiscalizacao-eletronica.csv\", sep=\";\")"
   ]
  },
  {
   "cell_type": "code",
   "execution_count": 30,
   "metadata": {},
   "outputs": [],
   "source": [
    "monitoramento = pandas.read_csv(\"data/monitoramentocttu.csv\", sep=\";\")"
   ]
  },
  {
   "cell_type": "markdown",
   "metadata": {},
   "source": [
    "\n",
    "## Discussão\n",
    "Um desafio significante do projeto foi juntar os dataframes a partir dos lat e longs, como juntar exemplos, \n",
    "como calcular a distância ótima para que acidentes não fossem inseridos próximos de dois semafóros, por exempo?\n",
    "\n"
   ]
  },
  {
   "cell_type": "code",
   "execution_count": null,
   "metadata": {},
   "outputs": [],
   "source": []
  },
  {
   "cell_type": "markdown",
   "metadata": {},
   "source": [
    "# Exploração - fiscalização"
   ]
  },
  {
   "cell_type": "code",
   "execution_count": 26,
   "metadata": {},
   "outputs": [
    {
     "data": {
      "text/html": [
       "<div>\n",
       "<style scoped>\n",
       "    .dataframe tbody tr th:only-of-type {\n",
       "        vertical-align: middle;\n",
       "    }\n",
       "\n",
       "    .dataframe tbody tr th {\n",
       "        vertical-align: top;\n",
       "    }\n",
       "\n",
       "    .dataframe thead th {\n",
       "        text-align: right;\n",
       "    }\n",
       "</style>\n",
       "<table border=\"1\" class=\"dataframe\">\n",
       "  <thead>\n",
       "    <tr style=\"text-align: right;\">\n",
       "      <th></th>\n",
       "      <th>NOME</th>\n",
       "      <th>EQUIPAMENTO</th>\n",
       "      <th>CONTRATO</th>\n",
       "      <th>ENDERECO</th>\n",
       "      <th>FLUXO_VEICULO</th>\n",
       "      <th>VELOCIDADE</th>\n",
       "      <th>LONGITUDE</th>\n",
       "      <th>LATITUDE</th>\n",
       "    </tr>\n",
       "  </thead>\n",
       "  <tbody>\n",
       "    <tr>\n",
       "      <th>0</th>\n",
       "      <td>1</td>\n",
       "      <td>DEV</td>\n",
       "      <td>015/2011</td>\n",
       "      <td>AVENIDA ENGº ABDIAS CARVALHO - PROX N 101 - SE...</td>\n",
       "      <td>29000.0</td>\n",
       "      <td>60.0</td>\n",
       "      <td>-34.935969</td>\n",
       "      <td>-8.063842</td>\n",
       "    </tr>\n",
       "    <tr>\n",
       "      <th>1</th>\n",
       "      <td>2</td>\n",
       "      <td>DEV</td>\n",
       "      <td>015/2011</td>\n",
       "      <td>AVENIDA ENGº ABDIAS CARVALHO - PROX N 101 - SE...</td>\n",
       "      <td>34000.0</td>\n",
       "      <td>60.0</td>\n",
       "      <td>-34.935493</td>\n",
       "      <td>-8.063640</td>\n",
       "    </tr>\n",
       "    <tr>\n",
       "      <th>2</th>\n",
       "      <td>3</td>\n",
       "      <td>DEV</td>\n",
       "      <td>015/2011</td>\n",
       "      <td>AV MAL MASCARENHAS DE MORAES - PROX AEROPORTO ...</td>\n",
       "      <td>64000.0</td>\n",
       "      <td>60.0</td>\n",
       "      <td>-34.915644</td>\n",
       "      <td>-8.130088</td>\n",
       "    </tr>\n",
       "    <tr>\n",
       "      <th>3</th>\n",
       "      <td>4</td>\n",
       "      <td>DEV</td>\n",
       "      <td>015/2011</td>\n",
       "      <td>AV MAL MASCARENHAS DE MORAES - PROX AEROPORTO ...</td>\n",
       "      <td>64000.0</td>\n",
       "      <td>60.0</td>\n",
       "      <td>-34.915615</td>\n",
       "      <td>-8.129942</td>\n",
       "    </tr>\n",
       "    <tr>\n",
       "      <th>4</th>\n",
       "      <td>5</td>\n",
       "      <td>DEV</td>\n",
       "      <td>015/2011</td>\n",
       "      <td>AV MAL MASCARENHAS DE MORAES - PROX AEROPORTO ...</td>\n",
       "      <td>64000.0</td>\n",
       "      <td>60.0</td>\n",
       "      <td>-34.915856</td>\n",
       "      <td>-8.130059</td>\n",
       "    </tr>\n",
       "    <tr>\n",
       "      <th>5</th>\n",
       "      <td>6</td>\n",
       "      <td>DEV</td>\n",
       "      <td>015/2011</td>\n",
       "      <td>AV MAL MASCARENHAS DE MORAES - PROX AEROPORTO ...</td>\n",
       "      <td>64000.0</td>\n",
       "      <td>60.0</td>\n",
       "      <td>-34.915409</td>\n",
       "      <td>-8.129972</td>\n",
       "    </tr>\n",
       "    <tr>\n",
       "      <th>6</th>\n",
       "      <td>7</td>\n",
       "      <td>DEV</td>\n",
       "      <td>015/2011</td>\n",
       "      <td>AV BOA VIAGEM - PROX N 102</td>\n",
       "      <td>43000.0</td>\n",
       "      <td>60.0</td>\n",
       "      <td>-34.882100</td>\n",
       "      <td>-8.091903</td>\n",
       "    </tr>\n",
       "    <tr>\n",
       "      <th>7</th>\n",
       "      <td>8</td>\n",
       "      <td>DEV</td>\n",
       "      <td>015/2011</td>\n",
       "      <td>TERCEIRO JARDIM/BOA VIAGEM</td>\n",
       "      <td>43000.0</td>\n",
       "      <td>60.0</td>\n",
       "      <td>-34.888333</td>\n",
       "      <td>-8.107912</td>\n",
       "    </tr>\n",
       "    <tr>\n",
       "      <th>8</th>\n",
       "      <td>9</td>\n",
       "      <td>DEV</td>\n",
       "      <td>015/2011</td>\n",
       "      <td>LARGO DO CABANGA - SENTIDO BOA VIAGEM</td>\n",
       "      <td>43000.0</td>\n",
       "      <td>60.0</td>\n",
       "      <td>-34.892030</td>\n",
       "      <td>-8.079941</td>\n",
       "    </tr>\n",
       "    <tr>\n",
       "      <th>9</th>\n",
       "      <td>10</td>\n",
       "      <td>DEV</td>\n",
       "      <td>015/2011</td>\n",
       "      <td>LARGO DO CABANGA - SENTIDO DERBY</td>\n",
       "      <td>57000.0</td>\n",
       "      <td>60.0</td>\n",
       "      <td>-34.890900</td>\n",
       "      <td>-8.079600</td>\n",
       "    </tr>\n",
       "  </tbody>\n",
       "</table>\n",
       "</div>"
      ],
      "text/plain": [
       "   NOME EQUIPAMENTO  CONTRATO  \\\n",
       "0     1         DEV  015/2011   \n",
       "1     2         DEV  015/2011   \n",
       "2     3         DEV  015/2011   \n",
       "3     4         DEV  015/2011   \n",
       "4     5         DEV  015/2011   \n",
       "5     6         DEV  015/2011   \n",
       "6     7         DEV  015/2011   \n",
       "7     8         DEV  015/2011   \n",
       "8     9         DEV  015/2011   \n",
       "9    10         DEV  015/2011   \n",
       "\n",
       "                                            ENDERECO  FLUXO_VEICULO  \\\n",
       "0  AVENIDA ENGº ABDIAS CARVALHO - PROX N 101 - SE...        29000.0   \n",
       "1  AVENIDA ENGº ABDIAS CARVALHO - PROX N 101 - SE...        34000.0   \n",
       "2  AV MAL MASCARENHAS DE MORAES - PROX AEROPORTO ...        64000.0   \n",
       "3  AV MAL MASCARENHAS DE MORAES - PROX AEROPORTO ...        64000.0   \n",
       "4  AV MAL MASCARENHAS DE MORAES - PROX AEROPORTO ...        64000.0   \n",
       "5  AV MAL MASCARENHAS DE MORAES - PROX AEROPORTO ...        64000.0   \n",
       "6                         AV BOA VIAGEM - PROX N 102        43000.0   \n",
       "7                         TERCEIRO JARDIM/BOA VIAGEM        43000.0   \n",
       "8              LARGO DO CABANGA - SENTIDO BOA VIAGEM        43000.0   \n",
       "9                   LARGO DO CABANGA - SENTIDO DERBY        57000.0   \n",
       "\n",
       "   VELOCIDADE  LONGITUDE  LATITUDE  \n",
       "0        60.0 -34.935969 -8.063842  \n",
       "1        60.0 -34.935493 -8.063640  \n",
       "2        60.0 -34.915644 -8.130088  \n",
       "3        60.0 -34.915615 -8.129942  \n",
       "4        60.0 -34.915856 -8.130059  \n",
       "5        60.0 -34.915409 -8.129972  \n",
       "6        60.0 -34.882100 -8.091903  \n",
       "7        60.0 -34.888333 -8.107912  \n",
       "8        60.0 -34.892030 -8.079941  \n",
       "9        60.0 -34.890900 -8.079600  "
      ]
     },
     "execution_count": 26,
     "metadata": {},
     "output_type": "execute_result"
    }
   ],
   "source": [
    "fiscalizacao.head(10)"
   ]
  },
  {
   "cell_type": "code",
   "execution_count": 27,
   "metadata": {},
   "outputs": [
    {
     "data": {
      "text/plain": [
       "NOME               int64\n",
       "EQUIPAMENTO       object\n",
       "CONTRATO          object\n",
       "ENDERECO          object\n",
       "FLUXO_VEICULO    float64\n",
       "VELOCIDADE       float64\n",
       "LONGITUDE        float64\n",
       "LATITUDE         float64\n",
       "dtype: object"
      ]
     },
     "execution_count": 27,
     "metadata": {},
     "output_type": "execute_result"
    }
   ],
   "source": [
    "fiscalizacao.dtypes"
   ]
  },
  {
   "cell_type": "code",
   "execution_count": 23,
   "metadata": {},
   "outputs": [
    {
     "data": {
      "text/plain": [
       "(35, 8)"
      ]
     },
     "execution_count": 23,
     "metadata": {},
     "output_type": "execute_result"
    }
   ],
   "source": [
    "fiscalizacao.shape"
   ]
  },
  {
   "cell_type": "code",
   "execution_count": 21,
   "metadata": {},
   "outputs": [
    {
     "data": {
      "text/html": [
       "<div>\n",
       "<style scoped>\n",
       "    .dataframe tbody tr th:only-of-type {\n",
       "        vertical-align: middle;\n",
       "    }\n",
       "\n",
       "    .dataframe tbody tr th {\n",
       "        vertical-align: top;\n",
       "    }\n",
       "\n",
       "    .dataframe thead th {\n",
       "        text-align: right;\n",
       "    }\n",
       "</style>\n",
       "<table border=\"1\" class=\"dataframe\">\n",
       "  <thead>\n",
       "    <tr style=\"text-align: right;\">\n",
       "      <th></th>\n",
       "      <th>NOME</th>\n",
       "      <th>FLUXO_VEICULO</th>\n",
       "      <th>VELOCIDADE</th>\n",
       "      <th>LONGITUDE</th>\n",
       "      <th>LATITUDE</th>\n",
       "    </tr>\n",
       "  </thead>\n",
       "  <tbody>\n",
       "    <tr>\n",
       "      <th>count</th>\n",
       "      <td>35.000000</td>\n",
       "      <td>28.000000</td>\n",
       "      <td>26.000000</td>\n",
       "      <td>35.000000</td>\n",
       "      <td>35.000000</td>\n",
       "    </tr>\n",
       "    <tr>\n",
       "      <th>mean</th>\n",
       "      <td>18.000000</td>\n",
       "      <td>41396.000000</td>\n",
       "      <td>53.846154</td>\n",
       "      <td>-34.905407</td>\n",
       "      <td>-8.079984</td>\n",
       "    </tr>\n",
       "    <tr>\n",
       "      <th>std</th>\n",
       "      <td>10.246951</td>\n",
       "      <td>16311.373246</td>\n",
       "      <td>9.413574</td>\n",
       "      <td>0.024032</td>\n",
       "      <td>0.033942</td>\n",
       "    </tr>\n",
       "    <tr>\n",
       "      <th>min</th>\n",
       "      <td>1.000000</td>\n",
       "      <td>14000.000000</td>\n",
       "      <td>40.000000</td>\n",
       "      <td>-34.958040</td>\n",
       "      <td>-8.153316</td>\n",
       "    </tr>\n",
       "    <tr>\n",
       "      <th>25%</th>\n",
       "      <td>9.500000</td>\n",
       "      <td>30500.000000</td>\n",
       "      <td>40.000000</td>\n",
       "      <td>-34.927739</td>\n",
       "      <td>-8.097473</td>\n",
       "    </tr>\n",
       "    <tr>\n",
       "      <th>50%</th>\n",
       "      <td>18.000000</td>\n",
       "      <td>40000.000000</td>\n",
       "      <td>60.000000</td>\n",
       "      <td>-34.908242</td>\n",
       "      <td>-8.074541</td>\n",
       "    </tr>\n",
       "    <tr>\n",
       "      <th>75%</th>\n",
       "      <td>26.500000</td>\n",
       "      <td>57000.000000</td>\n",
       "      <td>60.000000</td>\n",
       "      <td>-34.884947</td>\n",
       "      <td>-8.053121</td>\n",
       "    </tr>\n",
       "    <tr>\n",
       "      <th>max</th>\n",
       "      <td>35.000000</td>\n",
       "      <td>64000.000000</td>\n",
       "      <td>60.000000</td>\n",
       "      <td>-34.871560</td>\n",
       "      <td>-8.038163</td>\n",
       "    </tr>\n",
       "  </tbody>\n",
       "</table>\n",
       "</div>"
      ],
      "text/plain": [
       "            NOME  FLUXO_VEICULO  VELOCIDADE  LONGITUDE   LATITUDE\n",
       "count  35.000000      28.000000   26.000000  35.000000  35.000000\n",
       "mean   18.000000   41396.000000   53.846154 -34.905407  -8.079984\n",
       "std    10.246951   16311.373246    9.413574   0.024032   0.033942\n",
       "min     1.000000   14000.000000   40.000000 -34.958040  -8.153316\n",
       "25%     9.500000   30500.000000   40.000000 -34.927739  -8.097473\n",
       "50%    18.000000   40000.000000   60.000000 -34.908242  -8.074541\n",
       "75%    26.500000   57000.000000   60.000000 -34.884947  -8.053121\n",
       "max    35.000000   64000.000000   60.000000 -34.871560  -8.038163"
      ]
     },
     "execution_count": 21,
     "metadata": {},
     "output_type": "execute_result"
    }
   ],
   "source": [
    "fiscalizacao.describe()"
   ]
  },
  {
   "cell_type": "markdown",
   "metadata": {},
   "source": [
    "# Exploração - Semaforos"
   ]
  },
  {
   "cell_type": "code",
   "execution_count": 25,
   "metadata": {},
   "outputs": [
    {
     "data": {
      "text/html": [
       "<div>\n",
       "<style scoped>\n",
       "    .dataframe tbody tr th:only-of-type {\n",
       "        vertical-align: middle;\n",
       "    }\n",
       "\n",
       "    .dataframe tbody tr th {\n",
       "        vertical-align: top;\n",
       "    }\n",
       "\n",
       "    .dataframe thead th {\n",
       "        text-align: right;\n",
       "    }\n",
       "</style>\n",
       "<table border=\"1\" class=\"dataframe\">\n",
       "  <thead>\n",
       "    <tr style=\"text-align: right;\">\n",
       "      <th></th>\n",
       "      <th>semaforo</th>\n",
       "      <th>Latitude</th>\n",
       "      <th>Longitude</th>\n",
       "    </tr>\n",
       "  </thead>\n",
       "  <tbody>\n",
       "    <tr>\n",
       "      <th>count</th>\n",
       "      <td>655.000000</td>\n",
       "      <td>655.000000</td>\n",
       "      <td>654.000000</td>\n",
       "    </tr>\n",
       "    <tr>\n",
       "      <th>mean</th>\n",
       "      <td>328.766412</td>\n",
       "      <td>-8.110816</td>\n",
       "      <td>-34.904928</td>\n",
       "    </tr>\n",
       "    <tr>\n",
       "      <th>std</th>\n",
       "      <td>190.417469</td>\n",
       "      <td>1.049914</td>\n",
       "      <td>0.019833</td>\n",
       "    </tr>\n",
       "    <tr>\n",
       "      <th>min</th>\n",
       "      <td>1.000000</td>\n",
       "      <td>-34.925727</td>\n",
       "      <td>-34.968542</td>\n",
       "    </tr>\n",
       "    <tr>\n",
       "      <th>25%</th>\n",
       "      <td>164.500000</td>\n",
       "      <td>-8.096992</td>\n",
       "      <td>-34.915793</td>\n",
       "    </tr>\n",
       "    <tr>\n",
       "      <th>50%</th>\n",
       "      <td>328.000000</td>\n",
       "      <td>-8.062029</td>\n",
       "      <td>-34.902649</td>\n",
       "    </tr>\n",
       "    <tr>\n",
       "      <th>75%</th>\n",
       "      <td>491.500000</td>\n",
       "      <td>-8.043514</td>\n",
       "      <td>-34.889812</td>\n",
       "    </tr>\n",
       "    <tr>\n",
       "      <th>max</th>\n",
       "      <td>663.000000</td>\n",
       "      <td>-8.004139</td>\n",
       "      <td>-34.870413</td>\n",
       "    </tr>\n",
       "  </tbody>\n",
       "</table>\n",
       "</div>"
      ],
      "text/plain": [
       "         semaforo    Latitude   Longitude\n",
       "count  655.000000  655.000000  654.000000\n",
       "mean   328.766412   -8.110816  -34.904928\n",
       "std    190.417469    1.049914    0.019833\n",
       "min      1.000000  -34.925727  -34.968542\n",
       "25%    164.500000   -8.096992  -34.915793\n",
       "50%    328.000000   -8.062029  -34.902649\n",
       "75%    491.500000   -8.043514  -34.889812\n",
       "max    663.000000   -8.004139  -34.870413"
      ]
     },
     "execution_count": 25,
     "metadata": {},
     "output_type": "execute_result"
    }
   ],
   "source": [
    "semaforos.describe()"
   ]
  },
  {
   "cell_type": "code",
   "execution_count": 28,
   "metadata": {},
   "outputs": [
    {
     "data": {
      "text/plain": [
       "(655, 9)"
      ]
     },
     "execution_count": 28,
     "metadata": {},
     "output_type": "execute_result"
    }
   ],
   "source": [
    "semaforos.shape"
   ]
  },
  {
   "cell_type": "code",
   "execution_count": 29,
   "metadata": {},
   "outputs": [
    {
     "data": {
      "text/html": [
       "<div>\n",
       "<style scoped>\n",
       "    .dataframe tbody tr th:only-of-type {\n",
       "        vertical-align: middle;\n",
       "    }\n",
       "\n",
       "    .dataframe tbody tr th {\n",
       "        vertical-align: top;\n",
       "    }\n",
       "\n",
       "    .dataframe thead th {\n",
       "        text-align: right;\n",
       "    }\n",
       "</style>\n",
       "<table border=\"1\" class=\"dataframe\">\n",
       "  <thead>\n",
       "    <tr style=\"text-align: right;\">\n",
       "      <th></th>\n",
       "      <th>semaforo</th>\n",
       "      <th>localizacao1</th>\n",
       "      <th>localizacao2</th>\n",
       "      <th>funcionamento</th>\n",
       "      <th>utilizacao</th>\n",
       "      <th>sinalsonoro</th>\n",
       "      <th>sinalizadorciclista</th>\n",
       "      <th>Latitude</th>\n",
       "      <th>Longitude</th>\n",
       "    </tr>\n",
       "  </thead>\n",
       "  <tbody>\n",
       "    <tr>\n",
       "      <th>0</th>\n",
       "      <td>1</td>\n",
       "      <td>Boa Viagem, Av.</td>\n",
       "      <td>Em frente ao parque Dona Lindú</td>\n",
       "      <td>E/Git</td>\n",
       "      <td>Ocasional/Ped.</td>\n",
       "      <td>N</td>\n",
       "      <td>N</td>\n",
       "      <td>-8.142323</td>\n",
       "      <td>-34.903798</td>\n",
       "    </tr>\n",
       "    <tr>\n",
       "      <th>1</th>\n",
       "      <td>2</td>\n",
       "      <td>Conselheiro Aguiar, Av.</td>\n",
       "      <td>Thomé Gibson, Rua</td>\n",
       "      <td>E/Git</td>\n",
       "      <td>Veicular</td>\n",
       "      <td>N</td>\n",
       "      <td>N</td>\n",
       "      <td>-8.099068</td>\n",
       "      <td>-34.885883</td>\n",
       "    </tr>\n",
       "    <tr>\n",
       "      <th>2</th>\n",
       "      <td>3</td>\n",
       "      <td>Boa Viagem, Av.</td>\n",
       "      <td>França Pereira, Rua</td>\n",
       "      <td>E/Git</td>\n",
       "      <td>Ocasional/Ped.</td>\n",
       "      <td>N</td>\n",
       "      <td>S</td>\n",
       "      <td>-8.106806</td>\n",
       "      <td>-34.887726</td>\n",
       "    </tr>\n",
       "    <tr>\n",
       "      <th>3</th>\n",
       "      <td>4</td>\n",
       "      <td>Boa Viagem, Av.</td>\n",
       "      <td>Barão de Souza Leão, Rua</td>\n",
       "      <td>E/Git</td>\n",
       "      <td>Ocasional/Ped.</td>\n",
       "      <td>N</td>\n",
       "      <td>S</td>\n",
       "      <td>-8.132230</td>\n",
       "      <td>-34.899990</td>\n",
       "    </tr>\n",
       "    <tr>\n",
       "      <th>4</th>\n",
       "      <td>5</td>\n",
       "      <td>Conselheiro Aguiar, Av.</td>\n",
       "      <td>Artur Muniz, Rua</td>\n",
       "      <td>E/Git</td>\n",
       "      <td>Veicular</td>\n",
       "      <td>N</td>\n",
       "      <td>N</td>\n",
       "      <td>-8.104310</td>\n",
       "      <td>-34.888228</td>\n",
       "    </tr>\n",
       "    <tr>\n",
       "      <th>5</th>\n",
       "      <td>6</td>\n",
       "      <td>Conselheiro Aguiar, Av.</td>\n",
       "      <td>Antônio Falcão, Rua</td>\n",
       "      <td>E/Git</td>\n",
       "      <td>Veicular</td>\n",
       "      <td>N</td>\n",
       "      <td>N</td>\n",
       "      <td>-8.116171</td>\n",
       "      <td>-34.894686</td>\n",
       "    </tr>\n",
       "    <tr>\n",
       "      <th>6</th>\n",
       "      <td>7</td>\n",
       "      <td>Mascarenhas de Morais, Av.</td>\n",
       "      <td>Jamaica, Rua</td>\n",
       "      <td>E/Git</td>\n",
       "      <td>Veicular</td>\n",
       "      <td>N</td>\n",
       "      <td>N</td>\n",
       "      <td>-8.107621</td>\n",
       "      <td>-34.911660</td>\n",
       "    </tr>\n",
       "    <tr>\n",
       "      <th>7</th>\n",
       "      <td>8</td>\n",
       "      <td>Caxangá, Av.</td>\n",
       "      <td>Bom Pastor, Rua do</td>\n",
       "      <td>E/Git</td>\n",
       "      <td>Veicular</td>\n",
       "      <td>N</td>\n",
       "      <td>N</td>\n",
       "      <td>-8.040820</td>\n",
       "      <td>-34.938494</td>\n",
       "    </tr>\n",
       "    <tr>\n",
       "      <th>8</th>\n",
       "      <td>9</td>\n",
       "      <td>Cruz Cabugá, Av.</td>\n",
       "      <td>Est BRT Casa da Misericórdia</td>\n",
       "      <td>E/Git</td>\n",
       "      <td>Pedestre</td>\n",
       "      <td>N</td>\n",
       "      <td>N</td>\n",
       "      <td>-8.044224</td>\n",
       "      <td>-34.874595</td>\n",
       "    </tr>\n",
       "    <tr>\n",
       "      <th>9</th>\n",
       "      <td>10</td>\n",
       "      <td>II Perimetral</td>\n",
       "      <td>Parnamirim, Av.</td>\n",
       "      <td>E/Git</td>\n",
       "      <td>Veicular</td>\n",
       "      <td>N</td>\n",
       "      <td>N</td>\n",
       "      <td>-8.034731</td>\n",
       "      <td>-34.908303</td>\n",
       "    </tr>\n",
       "    <tr>\n",
       "      <th>10</th>\n",
       "      <td>11</td>\n",
       "      <td>Conselheiro Portela, Rua</td>\n",
       "      <td>48, Rua</td>\n",
       "      <td>E/Git</td>\n",
       "      <td>Veicular</td>\n",
       "      <td>N</td>\n",
       "      <td>N</td>\n",
       "      <td>-8.041458</td>\n",
       "      <td>-34.893810</td>\n",
       "    </tr>\n",
       "    <tr>\n",
       "      <th>11</th>\n",
       "      <td>12</td>\n",
       "      <td>Barão da Vitória, Rua</td>\n",
       "      <td>Floriano Peixoto, Rua</td>\n",
       "      <td>E</td>\n",
       "      <td>Veic.C/Ped.Paral.</td>\n",
       "      <td>N</td>\n",
       "      <td>N</td>\n",
       "      <td>-8.067321</td>\n",
       "      <td>-34.882931</td>\n",
       "    </tr>\n",
       "    <tr>\n",
       "      <th>12</th>\n",
       "      <td>13</td>\n",
       "      <td>Sol, Rua do</td>\n",
       "      <td>Nova, Rua</td>\n",
       "      <td>E/Git</td>\n",
       "      <td>Veic.C/Ped.Ocas.</td>\n",
       "      <td>S</td>\n",
       "      <td>N</td>\n",
       "      <td>-8.063874</td>\n",
       "      <td>-34.880922</td>\n",
       "    </tr>\n",
       "    <tr>\n",
       "      <th>13</th>\n",
       "      <td>14</td>\n",
       "      <td>Sol, Rua do</td>\n",
       "      <td>Guararapes, Av.</td>\n",
       "      <td>E/Git</td>\n",
       "      <td>Veic.C/Ped.Paral.</td>\n",
       "      <td>N</td>\n",
       "      <td>N</td>\n",
       "      <td>-8.062706</td>\n",
       "      <td>-34.880416</td>\n",
       "    </tr>\n",
       "    <tr>\n",
       "      <th>14</th>\n",
       "      <td>15</td>\n",
       "      <td>Dantas Barreto, Av.</td>\n",
       "      <td>Guararapes, Av.</td>\n",
       "      <td>E/Git</td>\n",
       "      <td>Veic.C/Ped.Paral.</td>\n",
       "      <td>N</td>\n",
       "      <td>N</td>\n",
       "      <td>-8.063788</td>\n",
       "      <td>-34.878518</td>\n",
       "    </tr>\n",
       "    <tr>\n",
       "      <th>15</th>\n",
       "      <td>16</td>\n",
       "      <td>Recife, Av.</td>\n",
       "      <td>São Nicolau, Rua</td>\n",
       "      <td>E/Git</td>\n",
       "      <td>Veicular</td>\n",
       "      <td>N</td>\n",
       "      <td>N</td>\n",
       "      <td>-8.106969</td>\n",
       "      <td>-34.927227</td>\n",
       "    </tr>\n",
       "    <tr>\n",
       "      <th>16</th>\n",
       "      <td>17</td>\n",
       "      <td>Nossa Senhora do Carmo, Av.</td>\n",
       "      <td>Duque de Caxias, Rua</td>\n",
       "      <td>E/Git</td>\n",
       "      <td>Pedestre</td>\n",
       "      <td>S</td>\n",
       "      <td>N</td>\n",
       "      <td>-8.066200</td>\n",
       "      <td>-34.877317</td>\n",
       "    </tr>\n",
       "    <tr>\n",
       "      <th>17</th>\n",
       "      <td>18</td>\n",
       "      <td>Imperador, Rua do</td>\n",
       "      <td>1º de Março, Rua</td>\n",
       "      <td>E/Git</td>\n",
       "      <td>Veicular</td>\n",
       "      <td>N</td>\n",
       "      <td>N</td>\n",
       "      <td>-8.064191</td>\n",
       "      <td>-34.876823</td>\n",
       "    </tr>\n",
       "    <tr>\n",
       "      <th>18</th>\n",
       "      <td>19</td>\n",
       "      <td>Rio Branco, Av.</td>\n",
       "      <td>Apolo, Cais do</td>\n",
       "      <td>E/Git</td>\n",
       "      <td>Veicular</td>\n",
       "      <td>N</td>\n",
       "      <td>N</td>\n",
       "      <td>-8.062391</td>\n",
       "      <td>-34.873830</td>\n",
       "    </tr>\n",
       "    <tr>\n",
       "      <th>19</th>\n",
       "      <td>20</td>\n",
       "      <td>Marquez de Olinda, Av.</td>\n",
       "      <td>Madre de Deus, Rua</td>\n",
       "      <td>E/Git</td>\n",
       "      <td>Veicular</td>\n",
       "      <td>N</td>\n",
       "      <td>N</td>\n",
       "      <td>-8.063611</td>\n",
       "      <td>-34.873672</td>\n",
       "    </tr>\n",
       "  </tbody>\n",
       "</table>\n",
       "</div>"
      ],
      "text/plain": [
       "    semaforo                 localizacao1                    localizacao2  \\\n",
       "0          1              Boa Viagem, Av.  Em frente ao parque Dona Lindú   \n",
       "1          2      Conselheiro Aguiar, Av.               Thomé Gibson, Rua   \n",
       "2          3              Boa Viagem, Av.             França Pereira, Rua   \n",
       "3          4              Boa Viagem, Av.        Barão de Souza Leão, Rua   \n",
       "4          5      Conselheiro Aguiar, Av.                Artur Muniz, Rua   \n",
       "5          6      Conselheiro Aguiar, Av.             Antônio Falcão, Rua   \n",
       "6          7   Mascarenhas de Morais, Av.                    Jamaica, Rua   \n",
       "7          8                 Caxangá, Av.              Bom Pastor, Rua do   \n",
       "8          9             Cruz Cabugá, Av.    Est BRT Casa da Misericórdia   \n",
       "9         10                II Perimetral                 Parnamirim, Av.   \n",
       "10        11     Conselheiro Portela, Rua                         48, Rua   \n",
       "11        12        Barão da Vitória, Rua           Floriano Peixoto, Rua   \n",
       "12        13                  Sol, Rua do                       Nova, Rua   \n",
       "13        14                  Sol, Rua do                 Guararapes, Av.   \n",
       "14        15          Dantas Barreto, Av.                 Guararapes, Av.   \n",
       "15        16                  Recife, Av.                São Nicolau, Rua   \n",
       "16        17  Nossa Senhora do Carmo, Av.            Duque de Caxias, Rua   \n",
       "17        18            Imperador, Rua do                1º de Março, Rua   \n",
       "18        19              Rio Branco, Av.                  Apolo, Cais do   \n",
       "19        20       Marquez de Olinda, Av.              Madre de Deus, Rua   \n",
       "\n",
       "   funcionamento         utilizacao sinalsonoro sinalizadorciclista  Latitude  \\\n",
       "0          E/Git     Ocasional/Ped.           N                   N -8.142323   \n",
       "1          E/Git           Veicular           N                   N -8.099068   \n",
       "2          E/Git     Ocasional/Ped.           N                   S -8.106806   \n",
       "3          E/Git     Ocasional/Ped.           N                   S -8.132230   \n",
       "4          E/Git           Veicular           N                   N -8.104310   \n",
       "5          E/Git           Veicular           N                   N -8.116171   \n",
       "6          E/Git           Veicular           N                   N -8.107621   \n",
       "7          E/Git           Veicular           N                   N -8.040820   \n",
       "8          E/Git           Pedestre           N                   N -8.044224   \n",
       "9          E/Git           Veicular           N                   N -8.034731   \n",
       "10         E/Git           Veicular           N                   N -8.041458   \n",
       "11             E  Veic.C/Ped.Paral.           N                   N -8.067321   \n",
       "12         E/Git   Veic.C/Ped.Ocas.           S                   N -8.063874   \n",
       "13         E/Git  Veic.C/Ped.Paral.           N                   N -8.062706   \n",
       "14         E/Git  Veic.C/Ped.Paral.           N                   N -8.063788   \n",
       "15         E/Git           Veicular           N                   N -8.106969   \n",
       "16         E/Git           Pedestre           S                   N -8.066200   \n",
       "17         E/Git           Veicular           N                   N -8.064191   \n",
       "18         E/Git           Veicular           N                   N -8.062391   \n",
       "19         E/Git           Veicular           N                   N -8.063611   \n",
       "\n",
       "    Longitude  \n",
       "0  -34.903798  \n",
       "1  -34.885883  \n",
       "2  -34.887726  \n",
       "3  -34.899990  \n",
       "4  -34.888228  \n",
       "5  -34.894686  \n",
       "6  -34.911660  \n",
       "7  -34.938494  \n",
       "8  -34.874595  \n",
       "9  -34.908303  \n",
       "10 -34.893810  \n",
       "11 -34.882931  \n",
       "12 -34.880922  \n",
       "13 -34.880416  \n",
       "14 -34.878518  \n",
       "15 -34.927227  \n",
       "16 -34.877317  \n",
       "17 -34.876823  \n",
       "18 -34.873830  \n",
       "19 -34.873672  "
      ]
     },
     "execution_count": 29,
     "metadata": {},
     "output_type": "execute_result"
    }
   ],
   "source": [
    "semaforos.head(20)"
   ]
  },
  {
   "cell_type": "markdown",
   "metadata": {},
   "source": [
    "# Data Cleaning"
   ]
  },
  {
   "cell_type": "markdown",
   "metadata": {},
   "source": [
    "## Monitoramento"
   ]
  },
  {
   "cell_type": "code",
   "execution_count": 39,
   "metadata": {},
   "outputs": [],
   "source": [
    "monitoramento['location'] = monitoramento.apply(lambda example: Point(example.latitude, example.longitude), axis=1)"
   ]
  },
  {
   "cell_type": "code",
   "execution_count": 53,
   "metadata": {},
   "outputs": [
    {
     "data": {
      "text/html": [
       "<div>\n",
       "<style scoped>\n",
       "    .dataframe tbody tr th:only-of-type {\n",
       "        vertical-align: middle;\n",
       "    }\n",
       "\n",
       "    .dataframe tbody tr th {\n",
       "        vertical-align: top;\n",
       "    }\n",
       "\n",
       "    .dataframe thead th {\n",
       "        text-align: right;\n",
       "    }\n",
       "</style>\n",
       "<table border=\"1\" class=\"dataframe\">\n",
       "  <thead>\n",
       "    <tr style=\"text-align: right;\">\n",
       "      <th></th>\n",
       "      <th>nome</th>\n",
       "      <th>endereco</th>\n",
       "      <th>longitude</th>\n",
       "      <th>latitude</th>\n",
       "      <th>location</th>\n",
       "    </tr>\n",
       "  </thead>\n",
       "  <tbody>\n",
       "    <tr>\n",
       "      <th>0</th>\n",
       "      <td>Câmera 150</td>\n",
       "      <td>Largo do Cabanga - Ponte do Pina</td>\n",
       "      <td>-34.891049</td>\n",
       "      <td>-8.080844</td>\n",
       "      <td>POINT (-8.080844000000001 -34.891049)</td>\n",
       "    </tr>\n",
       "    <tr>\n",
       "      <th>1</th>\n",
       "      <td>Câmera 151</td>\n",
       "      <td>Av. Herculano Bandeira - Semáforo 137</td>\n",
       "      <td>-34.885291</td>\n",
       "      <td>-8.088795</td>\n",
       "      <td>POINT (-8.088794999999999 -34.885291)</td>\n",
       "    </tr>\n",
       "    <tr>\n",
       "      <th>2</th>\n",
       "      <td>Câmera 152</td>\n",
       "      <td>Av. Agamenon Magalhães - sentido Olinda</td>\n",
       "      <td>-34.884789</td>\n",
       "      <td>-8.042955</td>\n",
       "      <td>POINT (-8.042955000000001 -34.884789)</td>\n",
       "    </tr>\n",
       "    <tr>\n",
       "      <th>3</th>\n",
       "      <td>Câmera 153</td>\n",
       "      <td>Av. Boa Viagem - 3º Jardim</td>\n",
       "      <td>-34.888551</td>\n",
       "      <td>-8.108781</td>\n",
       "      <td>POINT (-8.108781 -34.888551)</td>\n",
       "    </tr>\n",
       "    <tr>\n",
       "      <th>4</th>\n",
       "      <td>Câmera 154</td>\n",
       "      <td>Av Engenhriro Abdias de Carvalho - próx à lomb...</td>\n",
       "      <td>-34.934995</td>\n",
       "      <td>-8.063758</td>\n",
       "      <td>POINT (-8.063758 -34.934995)</td>\n",
       "    </tr>\n",
       "  </tbody>\n",
       "</table>\n",
       "</div>"
      ],
      "text/plain": [
       "         nome                                           endereco  longitude  \\\n",
       "0  Câmera 150                   Largo do Cabanga - Ponte do Pina -34.891049   \n",
       "1  Câmera 151              Av. Herculano Bandeira - Semáforo 137 -34.885291   \n",
       "2  Câmera 152            Av. Agamenon Magalhães - sentido Olinda -34.884789   \n",
       "3  Câmera 153                         Av. Boa Viagem - 3º Jardim -34.888551   \n",
       "4  Câmera 154  Av Engenhriro Abdias de Carvalho - próx à lomb... -34.934995   \n",
       "\n",
       "   latitude                               location  \n",
       "0 -8.080844  POINT (-8.080844000000001 -34.891049)  \n",
       "1 -8.088795  POINT (-8.088794999999999 -34.885291)  \n",
       "2 -8.042955  POINT (-8.042955000000001 -34.884789)  \n",
       "3 -8.108781           POINT (-8.108781 -34.888551)  \n",
       "4 -8.063758           POINT (-8.063758 -34.934995)  "
      ]
     },
     "execution_count": 53,
     "metadata": {},
     "output_type": "execute_result"
    }
   ],
   "source": [
    "monitoramento = geopandas.GeoDataFrame(monitoramento)\n",
    "monitoramento.head(5)"
   ]
  },
  {
   "cell_type": "markdown",
   "metadata": {},
   "source": [
    "Não achei necessário a transformação de nenhum tipo do dataset de monitoramento, apenas a transformação\n",
    "do tipo para **GeoDataFrame** e a criação da coluna location"
   ]
  },
  {
   "cell_type": "markdown",
   "metadata": {},
   "source": [
    "## Fiscalizacao"
   ]
  },
  {
   "cell_type": "code",
   "execution_count": 48,
   "metadata": {},
   "outputs": [],
   "source": [
    "fiscalizacao[\"location\"] = fiscalizacao.apply(lambda example: Point(example.LATITUDE, example.LONGITUDE), axis=1)"
   ]
  },
  {
   "cell_type": "code",
   "execution_count": 49,
   "metadata": {},
   "outputs": [],
   "source": [
    "fiscalizacao = geopandas.GeoDataFrame(fiscalizacao)"
   ]
  },
  {
   "cell_type": "code",
   "execution_count": 51,
   "metadata": {},
   "outputs": [
    {
     "data": {
      "text/plain": [
       "NOME               int64\n",
       "EQUIPAMENTO       object\n",
       "CONTRATO          object\n",
       "ENDERECO          object\n",
       "FLUXO_VEICULO    float64\n",
       "VELOCIDADE       float64\n",
       "LONGITUDE        float64\n",
       "LATITUDE         float64\n",
       "location          object\n",
       "dtype: object"
      ]
     },
     "execution_count": 51,
     "metadata": {},
     "output_type": "execute_result"
    }
   ],
   "source": [
    "fiscalizacao.dtypes"
   ]
  },
  {
   "cell_type": "markdown",
   "metadata": {},
   "source": [
    "## Semáforos"
   ]
  },
  {
   "cell_type": "code",
   "execution_count": 60,
   "metadata": {},
   "outputs": [
    {
     "data": {
      "text/html": [
       "<div>\n",
       "<style scoped>\n",
       "    .dataframe tbody tr th:only-of-type {\n",
       "        vertical-align: middle;\n",
       "    }\n",
       "\n",
       "    .dataframe tbody tr th {\n",
       "        vertical-align: top;\n",
       "    }\n",
       "\n",
       "    .dataframe thead th {\n",
       "        text-align: right;\n",
       "    }\n",
       "</style>\n",
       "<table border=\"1\" class=\"dataframe\">\n",
       "  <thead>\n",
       "    <tr style=\"text-align: right;\">\n",
       "      <th></th>\n",
       "      <th>semaforo</th>\n",
       "      <th>localizacao1</th>\n",
       "      <th>localizacao2</th>\n",
       "      <th>funcionamento</th>\n",
       "      <th>utilizacao</th>\n",
       "      <th>sinalsonoro</th>\n",
       "      <th>sinalizadorciclista</th>\n",
       "      <th>Latitude</th>\n",
       "      <th>Longitude</th>\n",
       "    </tr>\n",
       "  </thead>\n",
       "  <tbody>\n",
       "    <tr>\n",
       "      <th>0</th>\n",
       "      <td>1</td>\n",
       "      <td>Boa Viagem, Av.</td>\n",
       "      <td>Em frente ao parque Dona Lindú</td>\n",
       "      <td>E/Git</td>\n",
       "      <td>Ocasional/Ped.</td>\n",
       "      <td>N</td>\n",
       "      <td>N</td>\n",
       "      <td>-8.142323</td>\n",
       "      <td>-34.903798</td>\n",
       "    </tr>\n",
       "    <tr>\n",
       "      <th>1</th>\n",
       "      <td>2</td>\n",
       "      <td>Conselheiro Aguiar, Av.</td>\n",
       "      <td>Thomé Gibson, Rua</td>\n",
       "      <td>E/Git</td>\n",
       "      <td>Veicular</td>\n",
       "      <td>N</td>\n",
       "      <td>N</td>\n",
       "      <td>-8.099068</td>\n",
       "      <td>-34.885883</td>\n",
       "    </tr>\n",
       "    <tr>\n",
       "      <th>2</th>\n",
       "      <td>3</td>\n",
       "      <td>Boa Viagem, Av.</td>\n",
       "      <td>França Pereira, Rua</td>\n",
       "      <td>E/Git</td>\n",
       "      <td>Ocasional/Ped.</td>\n",
       "      <td>N</td>\n",
       "      <td>S</td>\n",
       "      <td>-8.106806</td>\n",
       "      <td>-34.887726</td>\n",
       "    </tr>\n",
       "    <tr>\n",
       "      <th>3</th>\n",
       "      <td>4</td>\n",
       "      <td>Boa Viagem, Av.</td>\n",
       "      <td>Barão de Souza Leão, Rua</td>\n",
       "      <td>E/Git</td>\n",
       "      <td>Ocasional/Ped.</td>\n",
       "      <td>N</td>\n",
       "      <td>S</td>\n",
       "      <td>-8.132230</td>\n",
       "      <td>-34.899990</td>\n",
       "    </tr>\n",
       "    <tr>\n",
       "      <th>4</th>\n",
       "      <td>5</td>\n",
       "      <td>Conselheiro Aguiar, Av.</td>\n",
       "      <td>Artur Muniz, Rua</td>\n",
       "      <td>E/Git</td>\n",
       "      <td>Veicular</td>\n",
       "      <td>N</td>\n",
       "      <td>N</td>\n",
       "      <td>-8.104310</td>\n",
       "      <td>-34.888228</td>\n",
       "    </tr>\n",
       "  </tbody>\n",
       "</table>\n",
       "</div>"
      ],
      "text/plain": [
       "   semaforo             localizacao1                    localizacao2  \\\n",
       "0         1          Boa Viagem, Av.  Em frente ao parque Dona Lindú   \n",
       "1         2  Conselheiro Aguiar, Av.               Thomé Gibson, Rua   \n",
       "2         3          Boa Viagem, Av.             França Pereira, Rua   \n",
       "3         4          Boa Viagem, Av.        Barão de Souza Leão, Rua   \n",
       "4         5  Conselheiro Aguiar, Av.                Artur Muniz, Rua   \n",
       "\n",
       "  funcionamento      utilizacao sinalsonoro sinalizadorciclista  Latitude  \\\n",
       "0         E/Git  Ocasional/Ped.           N                   N -8.142323   \n",
       "1         E/Git        Veicular           N                   N -8.099068   \n",
       "2         E/Git  Ocasional/Ped.           N                   S -8.106806   \n",
       "3         E/Git  Ocasional/Ped.           N                   S -8.132230   \n",
       "4         E/Git        Veicular           N                   N -8.104310   \n",
       "\n",
       "   Longitude  \n",
       "0 -34.903798  \n",
       "1 -34.885883  \n",
       "2 -34.887726  \n",
       "3 -34.899990  \n",
       "4 -34.888228  "
      ]
     },
     "execution_count": 60,
     "metadata": {},
     "output_type": "execute_result"
    }
   ],
   "source": [
    "semaforos.head(5)"
   ]
  },
  {
   "cell_type": "code",
   "execution_count": 72,
   "metadata": {},
   "outputs": [],
   "source": [
    "semaforos[\"location\"] = semaforos.apply(lambda example: Point(example.Latitude, example.Longitude), axis=1)"
   ]
  },
  {
   "cell_type": "code",
   "execution_count": 73,
   "metadata": {},
   "outputs": [],
   "source": [
    "semaforos = geopandas.GeoDataFrame(semaforos)"
   ]
  },
  {
   "cell_type": "code",
   "execution_count": 74,
   "metadata": {},
   "outputs": [
    {
     "data": {
      "text/plain": [
       "semaforo                 int64\n",
       "localizacao1            object\n",
       "localizacao2            object\n",
       "funcionamento           object\n",
       "utilizacao              object\n",
       "sinalsonoro             object\n",
       "sinalizadorciclista     object\n",
       "Latitude               float64\n",
       "Longitude              float64\n",
       "location                object\n",
       "dtype: object"
      ]
     },
     "execution_count": 74,
     "metadata": {},
     "output_type": "execute_result"
    }
   ],
   "source": [
    "semaforos.dtypes"
   ]
  },
  {
   "cell_type": "code",
   "execution_count": 75,
   "metadata": {},
   "outputs": [],
   "source": [
    "categorical_columns = [\"funcionamento\", \"sinalsonoro\", \"sinalizadorciclista\"]\n",
    "for column in categorical_columns:\n",
    "    semaforos[column] = semaforos[column].astype('category')"
   ]
  },
  {
   "cell_type": "code",
   "execution_count": 76,
   "metadata": {},
   "outputs": [
    {
     "data": {
      "text/plain": [
       "semaforo                  int64\n",
       "localizacao1             object\n",
       "localizacao2             object\n",
       "funcionamento          category\n",
       "utilizacao               object\n",
       "sinalsonoro            category\n",
       "sinalizadorciclista    category\n",
       "Latitude                float64\n",
       "Longitude               float64\n",
       "location                 object\n",
       "dtype: object"
      ]
     },
     "execution_count": 76,
     "metadata": {},
     "output_type": "execute_result"
    }
   ],
   "source": [
    "semaforos.dtypes"
   ]
  },
  {
   "cell_type": "code",
   "execution_count": 64,
   "metadata": {},
   "outputs": [
    {
     "data": {
      "text/html": [
       "<div>\n",
       "<style scoped>\n",
       "    .dataframe tbody tr th:only-of-type {\n",
       "        vertical-align: middle;\n",
       "    }\n",
       "\n",
       "    .dataframe tbody tr th {\n",
       "        vertical-align: top;\n",
       "    }\n",
       "\n",
       "    .dataframe thead th {\n",
       "        text-align: right;\n",
       "    }\n",
       "</style>\n",
       "<table border=\"1\" class=\"dataframe\">\n",
       "  <thead>\n",
       "    <tr style=\"text-align: right;\">\n",
       "      <th></th>\n",
       "      <th>semaforo</th>\n",
       "      <th>localizacao1</th>\n",
       "      <th>localizacao2</th>\n",
       "      <th>funcionamento</th>\n",
       "      <th>utilizacao</th>\n",
       "      <th>sinalsonoro</th>\n",
       "      <th>sinalizadorciclista</th>\n",
       "      <th>Latitude</th>\n",
       "      <th>Longitude</th>\n",
       "      <th>location</th>\n",
       "    </tr>\n",
       "  </thead>\n",
       "  <tbody>\n",
       "    <tr>\n",
       "      <th>0</th>\n",
       "      <td>1</td>\n",
       "      <td>Boa Viagem, Av.</td>\n",
       "      <td>Em frente ao parque Dona Lindú</td>\n",
       "      <td>E/Git</td>\n",
       "      <td>Ocasional/Ped.</td>\n",
       "      <td>N</td>\n",
       "      <td>N</td>\n",
       "      <td>-8.142323</td>\n",
       "      <td>-34.903798</td>\n",
       "      <td>POINT (-8.142322999999999 -34.90379799999999)</td>\n",
       "    </tr>\n",
       "    <tr>\n",
       "      <th>1</th>\n",
       "      <td>2</td>\n",
       "      <td>Conselheiro Aguiar, Av.</td>\n",
       "      <td>Thomé Gibson, Rua</td>\n",
       "      <td>E/Git</td>\n",
       "      <td>Veicular</td>\n",
       "      <td>N</td>\n",
       "      <td>N</td>\n",
       "      <td>-8.099068</td>\n",
       "      <td>-34.885883</td>\n",
       "      <td>POINT (-8.099067999999999 -34.885883)</td>\n",
       "    </tr>\n",
       "    <tr>\n",
       "      <th>2</th>\n",
       "      <td>3</td>\n",
       "      <td>Boa Viagem, Av.</td>\n",
       "      <td>França Pereira, Rua</td>\n",
       "      <td>E/Git</td>\n",
       "      <td>Ocasional/Ped.</td>\n",
       "      <td>N</td>\n",
       "      <td>S</td>\n",
       "      <td>-8.106806</td>\n",
       "      <td>-34.887726</td>\n",
       "      <td>POINT (-8.106806000000001 -34.887726)</td>\n",
       "    </tr>\n",
       "    <tr>\n",
       "      <th>3</th>\n",
       "      <td>4</td>\n",
       "      <td>Boa Viagem, Av.</td>\n",
       "      <td>Barão de Souza Leão, Rua</td>\n",
       "      <td>E/Git</td>\n",
       "      <td>Ocasional/Ped.</td>\n",
       "      <td>N</td>\n",
       "      <td>S</td>\n",
       "      <td>-8.132230</td>\n",
       "      <td>-34.899990</td>\n",
       "      <td>POINT (-8.13223 -34.89999)</td>\n",
       "    </tr>\n",
       "    <tr>\n",
       "      <th>4</th>\n",
       "      <td>5</td>\n",
       "      <td>Conselheiro Aguiar, Av.</td>\n",
       "      <td>Artur Muniz, Rua</td>\n",
       "      <td>E/Git</td>\n",
       "      <td>Veicular</td>\n",
       "      <td>N</td>\n",
       "      <td>N</td>\n",
       "      <td>-8.104310</td>\n",
       "      <td>-34.888228</td>\n",
       "      <td>POINT (-8.10431 -34.88822800000001)</td>\n",
       "    </tr>\n",
       "  </tbody>\n",
       "</table>\n",
       "</div>"
      ],
      "text/plain": [
       "   semaforo             localizacao1                    localizacao2  \\\n",
       "0         1          Boa Viagem, Av.  Em frente ao parque Dona Lindú   \n",
       "1         2  Conselheiro Aguiar, Av.               Thomé Gibson, Rua   \n",
       "2         3          Boa Viagem, Av.             França Pereira, Rua   \n",
       "3         4          Boa Viagem, Av.        Barão de Souza Leão, Rua   \n",
       "4         5  Conselheiro Aguiar, Av.                Artur Muniz, Rua   \n",
       "\n",
       "  funcionamento      utilizacao sinalsonoro sinalizadorciclista  Latitude  \\\n",
       "0         E/Git  Ocasional/Ped.           N                   N -8.142323   \n",
       "1         E/Git        Veicular           N                   N -8.099068   \n",
       "2         E/Git  Ocasional/Ped.           N                   S -8.106806   \n",
       "3         E/Git  Ocasional/Ped.           N                   S -8.132230   \n",
       "4         E/Git        Veicular           N                   N -8.104310   \n",
       "\n",
       "   Longitude                                       location  \n",
       "0 -34.903798  POINT (-8.142322999999999 -34.90379799999999)  \n",
       "1 -34.885883          POINT (-8.099067999999999 -34.885883)  \n",
       "2 -34.887726          POINT (-8.106806000000001 -34.887726)  \n",
       "3 -34.899990                     POINT (-8.13223 -34.89999)  \n",
       "4 -34.888228            POINT (-8.10431 -34.88822800000001)  "
      ]
     },
     "execution_count": 64,
     "metadata": {},
     "output_type": "execute_result"
    }
   ],
   "source": [
    "semaforos.head(5)"
   ]
  },
  {
   "cell_type": "code",
   "execution_count": 25,
   "metadata": {},
   "outputs": [
    {
     "data": {
      "text/plain": [
       "E/Git    498\n",
       "E        138\n",
       "E/GIt      3\n",
       "E/GIT      1\n",
       "Name: funcionamento, dtype: int64"
      ]
     },
     "execution_count": 25,
     "metadata": {},
     "output_type": "execute_result"
    }
   ],
   "source": [
    "semaforos[\"funcionamento\"].value_counts()"
   ]
  },
  {
   "cell_type": "code",
   "execution_count": 27,
   "metadata": {},
   "outputs": [],
   "source": [
    "semaforos[\"funcionamento\"] = semaforos[\"funcionamento\"].replace({'E/GIt': \"E/Git\", \"E/GIT\": \"E/Git\"})"
   ]
  },
  {
   "cell_type": "code",
   "execution_count": 28,
   "metadata": {},
   "outputs": [
    {
     "data": {
      "text/plain": [
       "E/Git    502\n",
       "E        138\n",
       "Name: funcionamento, dtype: int64"
      ]
     },
     "execution_count": 28,
     "metadata": {},
     "output_type": "execute_result"
    }
   ],
   "source": [
    "semaforos[\"funcionamento\"].value_counts()"
   ]
  },
  {
   "cell_type": "code",
   "execution_count": 31,
   "metadata": {},
   "outputs": [
    {
     "data": {
      "text/plain": [
       "N    592\n",
       "S     48\n",
       "Name: sinalsonoro, dtype: int64"
      ]
     },
     "execution_count": 31,
     "metadata": {},
     "output_type": "execute_result"
    }
   ],
   "source": [
    "semaforos[\"sinalsonoro\"].value_counts()"
   ]
  },
  {
   "cell_type": "code",
   "execution_count": 32,
   "metadata": {},
   "outputs": [
    {
     "data": {
      "text/plain": [
       "N            597\n",
       "S             43\n",
       "-8.107744      1\n",
       "Name: sinalizadorciclista, dtype: int64"
      ]
     },
     "execution_count": 32,
     "metadata": {},
     "output_type": "execute_result"
    }
   ],
   "source": [
    "semaforos[\"sinalizadorciclista\"].value_counts()"
   ]
  },
  {
   "cell_type": "code",
   "execution_count": 33,
   "metadata": {},
   "outputs": [
    {
     "data": {
      "text/plain": [
       "Gervásio Pires, Rua                                       5\n",
       "Bruno Veloso, Rua                                         5\n",
       "Félix de Brito, Rua                                       4\n",
       "Remédios, Estrada dos                                     4\n",
       "Barão de Souza Leão, Rua                                  4\n",
       "Futuro, Rua do                                            4\n",
       "Rua Nogueira de Souza                                     3\n",
       "Thomé Gibson, Rua                                         3\n",
       "Antônio Falcão, Rua                                       3\n",
       "Fernando Simões Barbosa, Av.                              3\n",
       "Peixoto, Rua do                                           3\n",
       "Sá e Souza, Rua                                           3\n",
       "Baltazar Passos, Rua                                      3\n",
       "Pereira da Costa, Rua                                     3\n",
       "Ernesto de Paula Santos, Rua                              3\n",
       "48, Rua                                                   3\n",
       "José Maria, Rua Dr.                                       3\n",
       "Malaquias, Av. Dr.                                        3\n",
       "Gomes Taborda, Rua                                        3\n",
       "Padre Carapuceiro, Rua                                    3\n",
       "Benvinda de Farias, Rua                                   3\n",
       "Dom Bosco, Rua                                            3\n",
       "Espinheiro, Rua do                                        3\n",
       "Benedito Chaves, Rua Cel.                                 2\n",
       "Antônio Novaes, Rua                                       2\n",
       "13 de Maio, Rua                                           2\n",
       "José dos Anjos, Rua Prof.                                 2\n",
       "Encanamento, Estrada do                                   2\n",
       "Inácio Monteiro, Rua                                      2\n",
       "Amélia, Rua                                               2\n",
       "                                                         ..\n",
       "Graças, Rua das                                           1\n",
       "Bom Pastor, Rua do                                        1\n",
       "Herculano Bandeira, Rua                                   1\n",
       "Robert Kennedy, Av. Senador                               1\n",
       "Paz, Rua da                                               1\n",
       "Dos Palmares, Rua.                                        1\n",
       "Jean Emile Favre, Rua                                     1\n",
       "Dorotéia Vieira, Rua                                      1\n",
       "Rua Igarassu                                              1\n",
       "Nicolau Pereira, Rua                                      1\n",
       "1º Jardim                                                 1\n",
       "José dos Anjos, Av. Prof.                                 1\n",
       "Hospício, Rua do                                          1\n",
       "E/F ao Hotel Reprise                                      1\n",
       "Osvaldo Cruz, Rua                                         1\n",
       "Inácio Gomes, Rua Expedicionário                          1\n",
       "Santos Dumont, Em frente ao Colégio                       1\n",
       "Ed.Visgueiro Nº1330, E/F ao                               1\n",
       "Após A Saida Do Tunel Augusto Lucena No Sentido Subcid    1\n",
       "Visconde de Suassuna, Av.                                 1\n",
       "Nº 727, Em frente ao                                      1\n",
       "Pampulha, Rua                                             1\n",
       "Vital de Oliveira, Rua                                    1\n",
       "Ribeiro Pessoa, Rua                                       1\n",
       "Estrada do Arraial                                        1\n",
       "Estação BRT Túnel da Abolição (Sub/Cid)                   1\n",
       "Antenor Navarro, Rua                                      1\n",
       "Desembargador João Paes, Rua                              1\n",
       "Bujarú, Rua                                               1\n",
       "Estação BRT Getulio Vargas (Sub/Cid)                      1\n",
       "Name: localizacao2, Length: 545, dtype: int64"
      ]
     },
     "execution_count": 33,
     "metadata": {},
     "output_type": "execute_result"
    }
   ],
   "source": [
    "semaforos[\"localizacao2\"].value_counts()"
   ]
  },
  {
   "cell_type": "markdown",
   "metadata": {},
   "source": [
    "Mesmo que os valores Veicular e Pedestre não estejam presentes no dicionário de dados, não \n",
    "há indicação para o descarte, então irei mantê-los"
   ]
  },
  {
   "cell_type": "code",
   "execution_count": 136,
   "metadata": {},
   "outputs": [
    {
     "data": {
      "text/plain": [
       "Veicular             316\n",
       "Ocasional/Ped.       206\n",
       "Veic.C/Ped.Ocas.      39\n",
       "Veic.C/Ped.Paral.     36\n",
       "Veic.C/Ped.           23\n",
       "Pedestre              13\n",
       "Veic.c/Ped.Ocas.       6\n",
       "Veic.C/Laço Det.       1\n",
       "Name: utilizacao, dtype: int64"
      ]
     },
     "execution_count": 136,
     "metadata": {},
     "output_type": "execute_result"
    }
   ],
   "source": [
    "semaforos[\"utilizacao\"].value_counts()"
   ]
  },
  {
   "cell_type": "markdown",
   "metadata": {},
   "source": [
    "## Acidentes"
   ]
  },
  {
   "cell_type": "code",
   "execution_count": 87,
   "metadata": {},
   "outputs": [
    {
     "data": {
      "text/plain": [
       "Index(['data', 'tipo', 'detalhes', 'longitude', 'latitude'], dtype='object')"
      ]
     },
     "execution_count": 87,
     "metadata": {},
     "output_type": "execute_result"
    }
   ],
   "source": [
    "acidentes_2014.columns"
   ]
  },
  {
   "cell_type": "markdown",
   "metadata": {},
   "source": [
    "Percebi que a coluna tipo do dataset de 2014 é o mesmo tipo_de_ocorrencia de 2015 e 2016, então  a \n",
    "renomiei para \"tipo de ocorrencia\""
   ]
  },
  {
   "cell_type": "code",
   "execution_count": 95,
   "metadata": {},
   "outputs": [
    {
     "data": {
      "text/plain": [
       "Colisoes                659\n",
       "Moto e Ciclomotor       300\n",
       "Motocicletas            179\n",
       "Atropelamentos          148\n",
       "Motos e Ciclomotores    148\n",
       "Automóveis e outros      85\n",
       "Ciclistas e pedestre     47\n",
       "Ciclistas                37\n",
       "Pedestres e ciclista     35\n",
       "Ciclistas e Pedestre     31\n",
       "Pedestres                30\n",
       "Ciclomotores             23\n",
       "Automóveis                9\n",
       "Outros                    3\n",
       "Name: tipo, dtype: int64"
      ]
     },
     "execution_count": 95,
     "metadata": {},
     "output_type": "execute_result"
    }
   ],
   "source": [
    "acidentes_2014[\"tipo\"].value_counts()"
   ]
  },
  {
   "cell_type": "code",
   "execution_count": 85,
   "metadata": {},
   "outputs": [
    {
     "data": {
      "text/plain": [
       "Index(['data_abertura', 'hora_abertura', 'bairro', 'endereco', 'complemento',\n",
       "       'tipo_ocorrencia', 'quantidade_vitimas', 'descricao', 'tipo',\n",
       "       'latitude', 'longitude'],\n",
       "      dtype='object')"
      ]
     },
     "execution_count": 85,
     "metadata": {},
     "output_type": "execute_result"
    }
   ],
   "source": [
    "acidentes_2015.columns"
   ]
  },
  {
   "cell_type": "code",
   "execution_count": 97,
   "metadata": {},
   "outputs": [
    {
     "data": {
      "text/plain": [
       "Motocicleta     806\n",
       "Pedestre        159\n",
       "Motocicletas    150\n",
       "Automóvel       121\n",
       "Ciclomotor       59\n",
       "Ciclista         55\n",
       "Outros           19\n",
       "Name: tipo, dtype: int64"
      ]
     },
     "execution_count": 97,
     "metadata": {},
     "output_type": "execute_result"
    }
   ],
   "source": [
    "acidentes_2015[\"tipo\"].value_counts()"
   ]
  },
  {
   "cell_type": "code",
   "execution_count": 37,
   "metadata": {},
   "outputs": [],
   "source": [
    "map_2015_2016 = {\"data_abertura\": \"data de abertura\", \"hora_abertura\": \"hora de abertura\",\n",
    "                \"quantidade_vitimas\": \"quantidade de vitimas\", \"tipo_ocorrencia\": \"tipo de ocorrencia\"}"
   ]
  },
  {
   "cell_type": "code",
   "execution_count": 38,
   "metadata": {},
   "outputs": [],
   "source": [
    "map_2014_2016 = {\"tipo\": \"tipo de ocorrencia\"}"
   ]
  },
  {
   "cell_type": "code",
   "execution_count": 39,
   "metadata": {},
   "outputs": [
    {
     "data": {
      "text/plain": [
       "Index(['data', 'tipo de ocorrencia', 'detalhes', 'longitude', 'latitude'], dtype='object')"
      ]
     },
     "execution_count": 39,
     "metadata": {},
     "output_type": "execute_result"
    }
   ],
   "source": [
    "acidentes_2014 = acidentes_2014.rename(map_2014_2016, axis='columns')\n",
    "acidentes_2014.columns"
   ]
  },
  {
   "cell_type": "code",
   "execution_count": 40,
   "metadata": {},
   "outputs": [
    {
     "data": {
      "text/plain": [
       "Index(['data de abertura', 'hora de abertura', 'bairro', 'endereco',\n",
       "       'complemento', 'tipo de ocorrencia', 'quantidade de vitimas',\n",
       "       'descricao', 'tipo', 'latitude', 'longitude'],\n",
       "      dtype='object')"
      ]
     },
     "execution_count": 40,
     "metadata": {},
     "output_type": "execute_result"
    }
   ],
   "source": [
    "acidentes_2015 = acidentes_2015.rename(map_2015_2016, axis='columns')\n",
    "acidentes_2015.columns"
   ]
  },
  {
   "cell_type": "code",
   "execution_count": 41,
   "metadata": {},
   "outputs": [
    {
     "data": {
      "text/plain": [
       "Index(['longitude', 'latitude', 'data de abertura', 'hora de abertura',\n",
       "       'bairro', 'endereco', 'complemento', 'tipo de ocorrencia',\n",
       "       'quantidade de vitimas', 'descricao', 'tipo'],\n",
       "      dtype='object')"
      ]
     },
     "execution_count": 41,
     "metadata": {},
     "output_type": "execute_result"
    }
   ],
   "source": [
    "acidentes_2016.columns"
   ]
  },
  {
   "cell_type": "code",
   "execution_count": 89,
   "metadata": {},
   "outputs": [
    {
     "data": {
      "text/plain": [
       "0    Automóveis\n",
       "1    Automóveis\n",
       "2    Automóveis\n",
       "3    Automóveis\n",
       "4    Automóveis\n",
       "Name: tipo, dtype: object"
      ]
     },
     "execution_count": 89,
     "metadata": {},
     "output_type": "execute_result"
    }
   ],
   "source": [
    "acidentes_2016[\"tipo\"].head(5)"
   ]
  },
  {
   "cell_type": "code",
   "execution_count": 96,
   "metadata": {
    "scrolled": false
   },
   "outputs": [
    {
     "data": {
      "text/plain": [
       "COLISÃO                   970\n",
       "ATROPELAMENTO             147\n",
       "COLISÃO COM CICLISTA       42\n",
       "CHOQUE                     34\n",
       "COLISÃOa                    8\n",
       "CAPOTAMENTO                 5\n",
       "ENTRADA E SAÍDA             4\n",
       "TOMBAMENTO                  4\n",
       "ENGAVETAMENTO               4\n",
       "COLISÃO\\t2016 13 050\\t      2\n",
       "ACID. DE PERCURSO           2\n",
       "QUEDA DE ÁRVORE             1\n",
       "ATROPELAMENTOa              1\n",
       "ATROPELAMENTO ANIMAL        1\n",
       "FISCALIZAÇÃO                1\n",
       "Name: tipo de ocorrencia, dtype: int64"
      ]
     },
     "execution_count": 96,
     "metadata": {},
     "output_type": "execute_result"
    }
   ],
   "source": [
    "acidentes_2016[\"tipo de ocorrencia\"].value_counts()"
   ]
  },
  {
   "cell_type": "code",
   "execution_count": 42,
   "metadata": {},
   "outputs": [],
   "source": [
    "acidentes_2014_2016 = pandas.concat([acidentes_2014, acidentes_2015, acidentes_2016])"
   ]
  },
  {
   "cell_type": "code",
   "execution_count": 43,
   "metadata": {},
   "outputs": [
    {
     "data": {
      "text/plain": [
       "(4334, 13)"
      ]
     },
     "execution_count": 43,
     "metadata": {},
     "output_type": "execute_result"
    }
   ],
   "source": [
    "acidentes_2014_2016.shape"
   ]
  },
  {
   "cell_type": "markdown",
   "metadata": {},
   "source": [
    "No dicionário de dados não há nada que mencione se há uma diferença entre \"Moto e Ciclomotor\" e \"Motos e Ciclomotores\", \n",
    "irei assumir que não há, dado que no máximo o que haverá será uma diferença na quantidade, se houver, \n",
    "acho que a perda de informação será mínima. \n",
    "\n",
    "Colocarei Motocicletas em separado pois acho que são uma categoria diferente de ciclomotor (como mostrado, há uma categoria \"Ciclomotores\""
   ]
  },
  {
   "cell_type": "code",
   "execution_count": 65,
   "metadata": {
    "scrolled": false
   },
   "outputs": [
    {
     "data": {
      "text/plain": [
       "Colisão                 2763\n",
       "Atropelamento            449\n",
       "Moto e Ciclomotor        448\n",
       "Motocicletas             179\n",
       "Ciclistas e Pedestre     113\n",
       "Automóveis e outros       85\n",
       "COLISÃO COM CICLISTA      76\n",
       "CHOQUE                    62\n",
       "Ciclistas                 37\n",
       "Pedestres                 30\n",
       "Ciclomotores              23\n",
       "CAPOTAMENTO               11\n",
       "Automóveis                 9\n",
       "ACID. DE PERCURSO          8\n",
       "TOMBAMENTO                 8\n",
       "ATROPELAMENTO ANIMAL       6\n",
       "ENGAVETAMENTO              5\n",
       "ENTRADA E SAÍDA            4\n",
       "COLISÃO                    4\n",
       "Outros                     3\n",
       "QUEDA DE ÁRVORE            1\n",
       "FISCALIZAÇÃO               1\n",
       "ATROPELAMENTO              1\n",
       "Name: tipo de ocorrencia, dtype: int64"
      ]
     },
     "execution_count": 65,
     "metadata": {},
     "output_type": "execute_result"
    }
   ],
   "source": [
    "acidentes_2014_2016[\"tipo de ocorrencia\"].value_counts()"
   ]
  },
  {
   "cell_type": "code",
   "execution_count": 49,
   "metadata": {},
   "outputs": [],
   "source": [
    "default_colisao_cicl_pedestrians_value = \"Ciclistas e Pedestre\"\n",
    "acidentes_2014_2016[\"tipo de ocorrencia\"] = acidentes_2014_2016[\"tipo de ocorrencia\"].replace({\"Ciclistas e pedestre\": default_colisao_cicl_pedestrians_value, \n",
    "                                                  \"Pedestres e ciclista\": default_colisao_cicl_pedestrians_value})"
   ]
  },
  {
   "cell_type": "code",
   "execution_count": 57,
   "metadata": {},
   "outputs": [],
   "source": [
    "default_colisao = \"Colisão\"\n",
    "acidentes_2014_2016[\"tipo de ocorrencia\"] = acidentes_2014_2016[\"tipo de ocorrencia\"].replace({\"COLISÃO\": default_colisao,\n",
    "                                                                                              '\"COLISÃO': default_colisao,\n",
    "                                                                                              'Colisoes': default_colisao,\n",
    "                                                                                              'COLISÃOa': default_colisao,\n",
    "                                                                                              \"COLISÃO\\t2016 13 050\\t\": default_colisao,\n",
    "                                                                                              \"COLISÃO\": default_colisao})"
   ]
  },
  {
   "cell_type": "code",
   "execution_count": 59,
   "metadata": {},
   "outputs": [],
   "source": [
    "default_atropelamento = \"Atropelamento\"\n",
    "acidentes_2014_2016[\"tipo de ocorrencia\"] = acidentes_2014_2016[\"tipo de ocorrencia\"].replace({\n",
    "    \"ATROPELAMENTOa\": default_atropelamento,\n",
    "    \"ATROPELAMENTO\": default_atropelamento,\n",
    "    \"Atropelamentos\": default_atropelamento,\n",
    "    \n",
    "})"
   ]
  },
  {
   "cell_type": "code",
   "execution_count": 61,
   "metadata": {},
   "outputs": [],
   "source": [
    "default_acid_percurso = \"ACID. DE PERCURSO\"\n",
    "acidentes_2014_2016[\"tipo de ocorrencia\"] = acidentes_2014_2016[\"tipo de ocorrencia\"].replace({\n",
    "    \"ACID DE PERCURSO\": default_acid_percurso\n",
    "})"
   ]
  },
  {
   "cell_type": "code",
   "execution_count": 64,
   "metadata": {},
   "outputs": [],
   "source": [
    "default_moto_ciclomotor = \"Moto e Ciclomotor\"\n",
    "acidentes_2014_2016[\"tipo de ocorrencia\"] = acidentes_2014_2016[\"tipo de ocorrencia\"].replace({\n",
    "    \"Motos e Ciclomotores\": default_moto_ciclomotor\n",
    "})"
   ]
  },
  {
   "cell_type": "code",
   "execution_count": null,
   "metadata": {},
   "outputs": [],
   "source": []
  }
 ],
 "metadata": {
  "kernelspec": {
   "display_name": "Python 3",
   "language": "python",
   "name": "python3"
  },
  "language_info": {
   "codemirror_mode": {
    "name": "ipython",
    "version": 3
   },
   "file_extension": ".py",
   "mimetype": "text/x-python",
   "name": "python",
   "nbconvert_exporter": "python",
   "pygments_lexer": "ipython3",
   "version": "3.6.5"
  }
 },
 "nbformat": 4,
 "nbformat_minor": 2
}
